{
 "cells": [
  {
   "cell_type": "code",
   "execution_count": 1,
   "metadata": {
    "collapsed": true
   },
   "outputs": [],
   "source": [
    "import numpy as np \n",
    "import matplotlib.pyplot as plt \n",
    "import pandas as pd \n",
    "import seaborn as sns\n",
    "from sklearn.cluster import KMeans\n",
    "%matplotlib inline"
   ]
  },
  {
   "cell_type": "code",
   "execution_count": 2,
   "metadata": {},
   "outputs": [
    {
     "data": {
      "text/plain": [
       "<seaborn.axisgrid.FacetGrid at 0xb337b30>"
      ]
     },
     "execution_count": 2,
     "metadata": {},
     "output_type": "execute_result"
    },
    {
     "data": {
      "image/png": "[encoded data removed]",
      "text/plain": [
       "<matplotlib.figure.Figure at 0x5d8b870>"
      ]
     },
     "metadata": {},
     "output_type": "display_data"
    }
   ],
   "source": [
    "df = pd.read_csv(\"cdata.csv\")\n",
    "df.head()\n",
    "sns.lmplot(x=\"x\",y=\"y\",fit_reg=False,hue=\"cluster\",data=df)"
   ]
  },
  {
   "cell_type": "code",
   "execution_count": 3,
   "metadata": {
    "scrolled": true
   },
   "outputs": [
    {
     "data": {
      "text/plain": [
       "[array([6.61792616, 1.19201472]),\n",
       " array([8.53983211, 0.51577669]),\n",
       " array([ 1.99523762, -1.28601424]),\n",
       " array([5.19244339, 0.95295789])]"
      ]
     },
     "execution_count": 3,
     "metadata": {},
     "output_type": "execute_result"
    }
   ],
   "source": [
    "#init\n",
    "D = np.array(df.iloc[:,:-1])\n",
    "space = np.vstack((D.min(0),D.max(0)))\n",
    "rang = space[1] - space[0]\n",
    "def startpoint():\n",
    "    for i in range(4):\n",
    "        yield np.random.random((2,))*rang + space[0]\n",
    "startpts= startpoint()\n",
    "list(startpts)\n",
    "# print(next(startpoint()))"
   ]
  },
  {
   "cell_type": "code",
   "execution_count": 4,
   "metadata": {
    "collapsed": true
   },
   "outputs": [],
   "source": [
    "def distance(a,b):\n",
    "\treturn  np.sqrt(sum((a-b)**2)) \n",
    "def get_centroid_point(x):\n",
    "\tx = np.array(x)\n",
    "\treturn  np.mean(x)"
   ]
  },
  {
   "cell_type": "code",
   "execution_count": 16,
   "metadata": {
    "scrolled": false
   },
   "outputs": [],
   "source": [
    "df = pd.read_csv(\"cdata.csv\")\n",
    "clus = df[[\"x\",\"y\"]]\n",
    "def kmeans(data,n = 10):\n",
    "    data[\"Label\"]=None\n",
    "    #create Initialization of Centroids\n",
    "    \n",
    "    #better way\n",
    "    #startpts= list(startpoint())\n",
    "    \n",
    "    #another way\n",
    "    startpts = df.iloc[:,:-1].values\n",
    "    np.random.shuffle(startpts)\n",
    "    startpts = startpts[:n]\n",
    "    \n",
    "    labels= list(range(n))\n",
    "    while True:\n",
    "        sse = 0\n",
    "        for i,v in data.iloc[:,:-1].iterrows():\n",
    "            features = v.values\n",
    "            #create a dictionay to gey the distance with three centroids dots\n",
    "            dist = dict()\n",
    "            for central,lbl in zip(startpts,labels):\n",
    "                dist[lbl] = distance(features,central)\n",
    "            #find the label of shortest distance \n",
    "            min_distance_lbl = pd.Series(dist).idxmin()\n",
    "            sse += pd.Series(dist).min()\n",
    "            data.ix[i,\"Label\"] = min_distance_lbl\n",
    "        means = data.groupby(\"Label\").mean().values\n",
    "        print(sse)\n",
    "        if np.array_equal(means,startpts):\n",
    "            return sse\n",
    "            break\n",
    "        else: startpts = means\n",
    "        meanplot =  pd.DataFrame(means,columns=[\"x\",\"y\"]) \n",
    "        #ploting\n",
    "#         ax = data[data[\"Label\"]==\"A\"].plot.scatter(x=\"x\",y=\"y\",c=\"r\")\n",
    "#         for i ,c in zip(list(\"ABCD\"),list(\"rgb\")+[\"orange\"]):\n",
    "#             data2plot = data[data[\"Label\"]==i]\n",
    "#             data2plot.plot.scatter(x=\"x\",y=\"y\",c=c,ax=ax,label = i)\n",
    "#         meanplot.plot.scatter(x = \"x\",y=\"y\",c =\"k\",ax=ax,s=100,label=\"Central\",marker=\"x\" )\n",
    "#         ax.legend()\n",
    "#         plt.show()\n",
    "#         sns.lmplot(x=\"x\",y=\"y\",fit_reg=False,hue=\"Label\",data=data)\n",
    "# kmeans(clus,n=10)"
   ]
  },
  {
   "cell_type": "code",
   "execution_count": 6,
   "metadata": {},
   "outputs": [
    {
     "name": "stderr",
     "output_type": "stream",
     "text": [
      "c:\\python35\\lib\\site-packages\\ipykernel_launcher.py:27: DeprecationWarning: \n",
      ".ix is deprecated. Please use\n",
      ".loc for label based indexing or\n",
      ".iloc for positional indexing\n",
      "\n",
      "See the documentation here:\n",
      "http://pandas.pydata.org/pandas-docs/stable/indexing.html#ix-indexer-is-deprecated\n"
     ]
    },
    {
     "name": "stdout",
     "output_type": "stream",
     "text": [
      "682.2004816182184\n",
      "589.6350592782624\n",
      "590.5357973736675\n",
      "591.5244204143677\n",
      "540.4501906001071\n",
      "361.16404007122736\n",
      "355.1018462768939\n",
      "420.6612006398988\n",
      "341.39396912227005\n",
      "341.2496329596556\n",
      "465.98136780876587\n",
      "316.6159201079558\n",
      "214.54508302824806\n",
      "212.63476678245533\n",
      "211.13365373454093\n",
      "210.77510375658156\n",
      "210.75610676622708\n",
      "210.91872801893945\n",
      "245.99987456790183\n",
      "203.94773272241935\n",
      "202.23048995333704\n",
      "201.82580191677098\n",
      "201.41492659788577\n",
      "201.2237258917059\n",
      "200.89283083360274\n",
      "200.8700151070865\n",
      "200.99726404339253\n",
      "259.89109991127697\n",
      "199.5720879872587\n",
      "196.64870998195326\n",
      "195.55907745593044\n",
      "195.56070936360152\n",
      "195.58291809095383\n",
      "358.8898670232656\n",
      "218.19890089186165\n",
      "193.569845013559\n",
      "187.22925068887702\n",
      "185.045052527421\n",
      "184.57220914079014\n",
      "184.4814059243793\n",
      "184.29301958407953\n",
      "184.2736748143528\n",
      "196.31623535752965\n",
      "180.05880801357017\n",
      "178.30561364850246\n",
      "177.93263323788005\n",
      "177.87341568258006\n",
      "177.8637850891411\n"
     ]
    },
    {
     "data": {
      "image/png": "[encoded data removed]",
      "text/plain": [
       "<matplotlib.figure.Figure at 0xe49a030>"
      ]
     },
     "metadata": {},
     "output_type": "display_data"
    }
   ],
   "source": [
    "df = pd.read_csv(\"cdata.csv\")\n",
    "clus = df[[\"x\",\"y\"]]\n",
    "SSE = []\n",
    "for n in range(2,10):\n",
    "    a = kmeans(clus,n=n)\n",
    "    SSE.append(a)\n",
    "plt.plot(range(2,10),SSE)\n",
    "plt.show()"
   ]
  },
  {
   "cell_type": "code",
   "execution_count": 7,
   "metadata": {},
   "outputs": [
    {
     "name": "stdout",
     "output_type": "stream",
     "text": [
      "        x       y  Label  True\n",
      "0  2.1364  0.8369      2     1\n",
      "1  7.4096 -1.4137      8     3\n",
      "2  5.0996  1.1552      1     0\n",
      "3  7.8149 -1.0186      7     3\n",
      "4  1.8925  1.2714      2     1\n",
      "1    48\n",
      "6    26\n",
      "4     1\n",
      "Name: Label, dtype: int64\n",
      "2    75\n",
      "Name: Label, dtype: int64\n",
      "0    39\n",
      "5    29\n",
      "4     7\n",
      "Name: Label, dtype: int64\n",
      "8    33\n",
      "7    25\n",
      "3    17\n",
      "Name: Label, dtype: int64\n"
     ]
    }
   ],
   "source": [
    "#check the result of clustering\n",
    "clus[\"True\"] = df[\"cluster\"].values\n",
    "print(clus.head())\n",
    "for i in range(4):\n",
    "    each = clus[clus[\"True\"]==i]\n",
    "    print(each[\"Label\"].value_counts())"
   ]
  },
  {
   "cell_type": "code",
   "execution_count": 8,
   "metadata": {
    "collapsed": true
   },
   "outputs": [],
   "source": [
    "features = df[[\"x\",\"y\"]].values"
   ]
  },
  {
   "cell_type": "code",
   "execution_count": 9,
   "metadata": {
    "scrolled": true
   },
   "outputs": [
    {
     "data": {
      "image/png": "[encoded data removed]",
      "text/plain": [
       "<matplotlib.figure.Figure at 0xe531610>"
      ]
     },
     "metadata": {},
     "output_type": "display_data"
    }
   ],
   "source": [
    "df = pd.read_csv(\"cdata.csv\")\n",
    "features = df[[\"x\",\"y\"]].values\n",
    "#elbow method\n",
    "SSE = []\n",
    "for i in range(2,11):\n",
    "    kmeans = KMeans(n_clusters=i,init='random')\n",
    "    kmeans.fit(features)\n",
    "    SSE.append(kmeans.inertia_)\n",
    "plt.plot(range(2,11),SSE)\n",
    "plt.xlabel(\"Number of k\")\n",
    "plt.ylabel(\"Sum of square error\")\n",
    "plt.savefig(\"elbow\",dpi=500)"
   ]
  },
  {
   "cell_type": "code",
   "execution_count": 10,
   "metadata": {},
   "outputs": [
    {
     "data": {
      "image/png": "[encoded data removed]",
      "text/plain": [
       "<matplotlib.figure.Figure at 0xe866250>"
      ]
     },
     "metadata": {},
     "output_type": "display_data"
    }
   ],
   "source": [
    "# ten times\n",
    "SSE = []\n",
    "for i in range(10):\n",
    "    kmeans = KMeans(n_clusters=10,init='random')\n",
    "    kmeans.fit(features)\n",
    "    SSE.append(kmeans.inertia_)\n",
    "plt.bar(range(10),SSE,alpha=.75)\n",
    "plt.xlabel(\"Fixed k = 10\")\n",
    "plt.ylabel(\"Sum of square error\")\n",
    "plt.title(\"Result of ten times randomly pick the initial points\")\n",
    "plt.ylim(110,125)\n",
    "plt.savefig(\"ten\",dpi=500)"
   ]
  },
  {
   "cell_type": "code",
   "execution_count": 17,
   "metadata": {},
   "outputs": [
    {
     "name": "stderr",
     "output_type": "stream",
     "text": [
      "c:\\python35\\lib\\site-packages\\ipykernel_launcher.py:27: DeprecationWarning: \n",
      ".ix is deprecated. Please use\n",
      ".loc for label based indexing or\n",
      ".iloc for positional indexing\n",
      "\n",
      "See the documentation here:\n",
      "http://pandas.pydata.org/pandas-docs/stable/indexing.html#ix-indexer-is-deprecated\n"
     ]
    },
    {
     "name": "stdout",
     "output_type": "stream",
     "text": [
      "206.64610810625467\n",
      "175.50565388464886\n",
      "168.5519915107627\n",
      "165.56115116566036\n",
      "165.00671269307668\n",
      "164.9320248389833\n",
      "164.98106108556522\n",
      "164.98106108556522\n",
      "227.07033772851534\n",
      "177.7962578230037\n",
      "174.34852034919172\n",
      "172.47691363272565\n",
      "172.06946300486825\n",
      "170.76167133559406\n",
      "169.5431698207803\n",
      "167.741784877717\n",
      "167.1612869321986\n",
      "166.94941793406286\n",
      "166.94941793406286\n",
      "205.98368457595603\n",
      "173.76209689283334\n",
      "170.70964038227163\n",
      "167.61180131652733\n",
      "165.21506766600513\n",
      "164.82333767384264\n",
      "164.59777232413276\n",
      "164.57702006577736\n",
      "164.50824756431766\n",
      "164.14107747663843\n",
      "164.0442398024048\n",
      "164.0442398024048\n",
      "259.1861697111047\n",
      "184.51113463377905\n",
      "181.12069230265675\n",
      "180.2846230879367\n",
      "179.12517419896787\n",
      "177.35754337018437\n",
      "175.7173527442943\n",
      "175.24060887603616\n",
      "174.7026025251355\n",
      "174.70262200084431\n",
      "174.69845084169927\n",
      "174.28477534328437\n",
      "173.98488185647068\n",
      "173.85743725358716\n",
      "173.17026839228197\n",
      "172.1581119103627\n",
      "171.35657367567117\n",
      "171.2099933101319\n",
      "171.02393153114792\n",
      "170.7133554690937\n",
      "169.65025966341292\n",
      "168.31255405117605\n",
      "167.01781955518393\n",
      "165.88985452004133\n",
      "165.47624953094672\n",
      "165.28010200924663\n",
      "165.28010200924663\n",
      "205.30902721832936\n",
      "177.82843025345227\n",
      "174.58329770032717\n",
      "172.41099748772314\n",
      "171.4089383960868\n",
      "171.05728481050838\n",
      "170.43396209989865\n",
      "169.53314934065062\n",
      "169.09700526048348\n",
      "168.9001058128191\n",
      "168.2667823622438\n",
      "167.95976442559882\n",
      "167.95976442559882\n",
      "217.30408582877106\n",
      "170.51912011751594\n",
      "164.8676438935781\n",
      "163.6911352127798\n",
      "163.09882213776027\n",
      "162.96905083440953\n",
      "162.89324922922185\n",
      "162.89324922922185\n",
      "201.16583656011863\n",
      "181.46777340099598\n",
      "179.8519489428725\n",
      "178.71104405398643\n",
      "177.93029002307924\n",
      "176.43945429553293\n",
      "174.0163296902064\n",
      "173.05089071543114\n",
      "171.97823306112014\n",
      "170.7836921023234\n",
      "170.64224977646896\n",
      "170.68197614583124\n",
      "170.68197614583124\n",
      "260.20568399196196\n",
      "183.1678835203808\n",
      "180.903918970604\n",
      "180.48011947681263\n",
      "179.88781766225412\n",
      "179.22710068552598\n",
      "178.8197000709755\n",
      "178.5876371121379\n",
      "178.5876371121379\n",
      "238.15720630703922\n",
      "180.822977783935\n",
      "175.40180780074863\n",
      "172.0267876967762\n",
      "171.63156133184623\n",
      "171.67416782451446\n",
      "171.68010985092937\n"
     ]
    },
    {
     "ename": "KeyboardInterrupt",
     "evalue": "",
     "output_type": "error",
     "traceback": [
      "\u001b[1;31m---------------------------------------------------------------------------\u001b[0m",
      "\u001b[1;31mKeyboardInterrupt\u001b[0m                         Traceback (most recent call last)",
      "\u001b[1;32m<ipython-input-17-ed16c5bb97a5>\u001b[0m in \u001b[0;36m<module>\u001b[1;34m()\u001b[0m\n\u001b[0;32m      2\u001b[0m \u001b[0mclus\u001b[0m \u001b[1;33m=\u001b[0m \u001b[0mdf\u001b[0m\u001b[1;33m[\u001b[0m\u001b[1;33m[\u001b[0m\u001b[1;34m\"x\"\u001b[0m\u001b[1;33m,\u001b[0m\u001b[1;34m\"y\"\u001b[0m\u001b[1;33m]\u001b[0m\u001b[1;33m]\u001b[0m\u001b[1;33m\u001b[0m\u001b[0m\n\u001b[0;32m      3\u001b[0m \u001b[1;32mfor\u001b[0m \u001b[0mi\u001b[0m \u001b[1;32min\u001b[0m \u001b[0mrange\u001b[0m\u001b[1;33m(\u001b[0m\u001b[1;36m10\u001b[0m\u001b[1;33m)\u001b[0m\u001b[1;33m:\u001b[0m\u001b[1;33m\u001b[0m\u001b[0m\n\u001b[1;32m----> 4\u001b[1;33m     \u001b[0ma\u001b[0m \u001b[1;33m=\u001b[0m \u001b[0mkmeans\u001b[0m\u001b[1;33m(\u001b[0m\u001b[0mclus\u001b[0m\u001b[1;33m,\u001b[0m\u001b[0mn\u001b[0m\u001b[1;33m=\u001b[0m\u001b[1;36m10\u001b[0m\u001b[1;33m)\u001b[0m\u001b[1;33m\u001b[0m\u001b[0m\n\u001b[0m\u001b[0;32m      5\u001b[0m     \u001b[0mprint\u001b[0m\u001b[1;33m(\u001b[0m\u001b[0ma\u001b[0m\u001b[1;33m)\u001b[0m\u001b[1;33m\u001b[0m\u001b[0m\n",
      "\u001b[1;32m<ipython-input-16-711fa6b009ae>\u001b[0m in \u001b[0;36mkmeans\u001b[1;34m(data, n)\u001b[0m\n\u001b[0;32m     23\u001b[0m                 \u001b[0mdist\u001b[0m\u001b[1;33m[\u001b[0m\u001b[0mlbl\u001b[0m\u001b[1;33m]\u001b[0m \u001b[1;33m=\u001b[0m \u001b[0mdistance\u001b[0m\u001b[1;33m(\u001b[0m\u001b[0mfeatures\u001b[0m\u001b[1;33m,\u001b[0m\u001b[0mcentral\u001b[0m\u001b[1;33m)\u001b[0m\u001b[1;33m\u001b[0m\u001b[0m\n\u001b[0;32m     24\u001b[0m             \u001b[1;31m#find the label of shortest distance\u001b[0m\u001b[1;33m\u001b[0m\u001b[1;33m\u001b[0m\u001b[0m\n\u001b[1;32m---> 25\u001b[1;33m             \u001b[0mmin_distance_lbl\u001b[0m \u001b[1;33m=\u001b[0m \u001b[0mpd\u001b[0m\u001b[1;33m.\u001b[0m\u001b[0mSeries\u001b[0m\u001b[1;33m(\u001b[0m\u001b[0mdist\u001b[0m\u001b[1;33m)\u001b[0m\u001b[1;33m.\u001b[0m\u001b[0midxmin\u001b[0m\u001b[1;33m(\u001b[0m\u001b[1;33m)\u001b[0m\u001b[1;33m\u001b[0m\u001b[0m\n\u001b[0m\u001b[0;32m     26\u001b[0m             \u001b[0msse\u001b[0m \u001b[1;33m+=\u001b[0m \u001b[0mpd\u001b[0m\u001b[1;33m.\u001b[0m\u001b[0mSeries\u001b[0m\u001b[1;33m(\u001b[0m\u001b[0mdist\u001b[0m\u001b[1;33m)\u001b[0m\u001b[1;33m.\u001b[0m\u001b[0mmin\u001b[0m\u001b[1;33m(\u001b[0m\u001b[1;33m)\u001b[0m\u001b[1;33m\u001b[0m\u001b[0m\n\u001b[0;32m     27\u001b[0m             \u001b[0mdata\u001b[0m\u001b[1;33m.\u001b[0m\u001b[0mix\u001b[0m\u001b[1;33m[\u001b[0m\u001b[0mi\u001b[0m\u001b[1;33m,\u001b[0m\u001b[1;34m\"Label\"\u001b[0m\u001b[1;33m]\u001b[0m \u001b[1;33m=\u001b[0m \u001b[0mmin_distance_lbl\u001b[0m\u001b[1;33m\u001b[0m\u001b[0m\n",
      "\u001b[1;32mc:\\python35\\lib\\site-packages\\pandas\\core\\series.py\u001b[0m in \u001b[0;36midxmin\u001b[1;34m(self, axis, skipna, *args, **kwargs)\u001b[0m\n\u001b[0;32m   1331\u001b[0m         \"\"\"\n\u001b[0;32m   1332\u001b[0m         \u001b[0mskipna\u001b[0m \u001b[1;33m=\u001b[0m \u001b[0mnv\u001b[0m\u001b[1;33m.\u001b[0m\u001b[0mvalidate_argmin_with_skipna\u001b[0m\u001b[1;33m(\u001b[0m\u001b[0mskipna\u001b[0m\u001b[1;33m,\u001b[0m \u001b[0margs\u001b[0m\u001b[1;33m,\u001b[0m \u001b[0mkwargs\u001b[0m\u001b[1;33m)\u001b[0m\u001b[1;33m\u001b[0m\u001b[0m\n\u001b[1;32m-> 1333\u001b[1;33m         \u001b[0mi\u001b[0m \u001b[1;33m=\u001b[0m \u001b[0mnanops\u001b[0m\u001b[1;33m.\u001b[0m\u001b[0mnanargmin\u001b[0m\u001b[1;33m(\u001b[0m\u001b[0m_values_from_object\u001b[0m\u001b[1;33m(\u001b[0m\u001b[0mself\u001b[0m\u001b[1;33m)\u001b[0m\u001b[1;33m,\u001b[0m \u001b[0mskipna\u001b[0m\u001b[1;33m=\u001b[0m\u001b[0mskipna\u001b[0m\u001b[1;33m)\u001b[0m\u001b[1;33m\u001b[0m\u001b[0m\n\u001b[0m\u001b[0;32m   1334\u001b[0m         \u001b[1;32mif\u001b[0m \u001b[0mi\u001b[0m \u001b[1;33m==\u001b[0m \u001b[1;33m-\u001b[0m\u001b[1;36m1\u001b[0m\u001b[1;33m:\u001b[0m\u001b[1;33m\u001b[0m\u001b[0m\n\u001b[0;32m   1335\u001b[0m             \u001b[1;32mreturn\u001b[0m \u001b[0mnp\u001b[0m\u001b[1;33m.\u001b[0m\u001b[0mnan\u001b[0m\u001b[1;33m\u001b[0m\u001b[0m\n",
      "\u001b[1;32mc:\\python35\\lib\\site-packages\\pandas\\core\\nanops.py\u001b[0m in \u001b[0;36m_f\u001b[1;34m(*args, **kwargs)\u001b[0m\n\u001b[0;32m     75\u001b[0m             \u001b[1;32mtry\u001b[0m\u001b[1;33m:\u001b[0m\u001b[1;33m\u001b[0m\u001b[0m\n\u001b[0;32m     76\u001b[0m                 \u001b[1;32mwith\u001b[0m \u001b[0mnp\u001b[0m\u001b[1;33m.\u001b[0m\u001b[0merrstate\u001b[0m\u001b[1;33m(\u001b[0m\u001b[0minvalid\u001b[0m\u001b[1;33m=\u001b[0m\u001b[1;34m'ignore'\u001b[0m\u001b[1;33m)\u001b[0m\u001b[1;33m:\u001b[0m\u001b[1;33m\u001b[0m\u001b[0m\n\u001b[1;32m---> 77\u001b[1;33m                     \u001b[1;32mreturn\u001b[0m \u001b[0mf\u001b[0m\u001b[1;33m(\u001b[0m\u001b[1;33m*\u001b[0m\u001b[0margs\u001b[0m\u001b[1;33m,\u001b[0m \u001b[1;33m**\u001b[0m\u001b[0mkwargs\u001b[0m\u001b[1;33m)\u001b[0m\u001b[1;33m\u001b[0m\u001b[0m\n\u001b[0m\u001b[0;32m     78\u001b[0m             \u001b[1;32mexcept\u001b[0m \u001b[0mValueError\u001b[0m \u001b[1;32mas\u001b[0m \u001b[0me\u001b[0m\u001b[1;33m:\u001b[0m\u001b[1;33m\u001b[0m\u001b[0m\n\u001b[0;32m     79\u001b[0m                 \u001b[1;31m# we want to transform an object array\u001b[0m\u001b[1;33m\u001b[0m\u001b[1;33m\u001b[0m\u001b[0m\n",
      "\u001b[1;32mc:\\python35\\lib\\site-packages\\pandas\\core\\nanops.py\u001b[0m in \u001b[0;36mnanargmin\u001b[1;34m(values, axis, skipna)\u001b[0m\n\u001b[0;32m    531\u001b[0m     \u001b[0mReturns\u001b[0m \u001b[1;33m-\u001b[0m\u001b[1;36m1\u001b[0m \u001b[1;32min\u001b[0m \u001b[0mthe\u001b[0m \u001b[0mNA\u001b[0m \u001b[0mcase\u001b[0m\u001b[1;33m\u001b[0m\u001b[0m\n\u001b[0;32m    532\u001b[0m     \"\"\"\n\u001b[1;32m--> 533\u001b[1;33m     \u001b[0mvalues\u001b[0m\u001b[1;33m,\u001b[0m \u001b[0mmask\u001b[0m\u001b[1;33m,\u001b[0m \u001b[0mdtype\u001b[0m\u001b[1;33m,\u001b[0m \u001b[0m_\u001b[0m \u001b[1;33m=\u001b[0m \u001b[0m_get_values\u001b[0m\u001b[1;33m(\u001b[0m\u001b[0mvalues\u001b[0m\u001b[1;33m,\u001b[0m \u001b[0mskipna\u001b[0m\u001b[1;33m,\u001b[0m \u001b[0mfill_value_typ\u001b[0m\u001b[1;33m=\u001b[0m\u001b[1;34m'+inf'\u001b[0m\u001b[1;33m)\u001b[0m\u001b[1;33m\u001b[0m\u001b[0m\n\u001b[0m\u001b[0;32m    534\u001b[0m     \u001b[0mresult\u001b[0m \u001b[1;33m=\u001b[0m \u001b[0mvalues\u001b[0m\u001b[1;33m.\u001b[0m\u001b[0margmin\u001b[0m\u001b[1;33m(\u001b[0m\u001b[0maxis\u001b[0m\u001b[1;33m)\u001b[0m\u001b[1;33m\u001b[0m\u001b[0m\n\u001b[0;32m    535\u001b[0m     \u001b[0mresult\u001b[0m \u001b[1;33m=\u001b[0m \u001b[0m_maybe_arg_null_out\u001b[0m\u001b[1;33m(\u001b[0m\u001b[0mresult\u001b[0m\u001b[1;33m,\u001b[0m \u001b[0maxis\u001b[0m\u001b[1;33m,\u001b[0m \u001b[0mmask\u001b[0m\u001b[1;33m,\u001b[0m \u001b[0mskipna\u001b[0m\u001b[1;33m)\u001b[0m\u001b[1;33m\u001b[0m\u001b[0m\n",
      "\u001b[1;32mc:\\python35\\lib\\site-packages\\pandas\\core\\nanops.py\u001b[0m in \u001b[0;36m_get_values\u001b[1;34m(values, skipna, fill_value, fill_value_typ, isfinite, copy)\u001b[0m\n\u001b[0;32m    224\u001b[0m             \u001b[0mvalues\u001b[0m \u001b[1;33m=\u001b[0m \u001b[0mvalues\u001b[0m\u001b[1;33m.\u001b[0m\u001b[0mcopy\u001b[0m\u001b[1;33m(\u001b[0m\u001b[1;33m)\u001b[0m\u001b[1;33m\u001b[0m\u001b[0m\n\u001b[0;32m    225\u001b[0m         \u001b[1;32mif\u001b[0m \u001b[0mdtype_ok\u001b[0m\u001b[1;33m:\u001b[0m\u001b[1;33m\u001b[0m\u001b[0m\n\u001b[1;32m--> 226\u001b[1;33m             \u001b[0mnp\u001b[0m\u001b[1;33m.\u001b[0m\u001b[0mputmask\u001b[0m\u001b[1;33m(\u001b[0m\u001b[0mvalues\u001b[0m\u001b[1;33m,\u001b[0m \u001b[0mmask\u001b[0m\u001b[1;33m,\u001b[0m \u001b[0mfill_value\u001b[0m\u001b[1;33m)\u001b[0m\u001b[1;33m\u001b[0m\u001b[0m\n\u001b[0m\u001b[0;32m    227\u001b[0m \u001b[1;33m\u001b[0m\u001b[0m\n\u001b[0;32m    228\u001b[0m         \u001b[1;31m# promote if needed\u001b[0m\u001b[1;33m\u001b[0m\u001b[1;33m\u001b[0m\u001b[0m\n",
      "\u001b[1;31mKeyboardInterrupt\u001b[0m: "
     ]
    }
   ],
   "source": [
    "df = pd.read_csv(\"cdata.csv\")\n",
    "clus = df[[\"x\",\"y\"]]\n",
    "for i in range(10):\n",
    "    a = kmeans(clus,n=10)\n",
    "    print(a)"
   ]
  },
  {
   "cell_type": "code",
   "execution_count": null,
   "metadata": {
    "collapsed": true
   },
   "outputs": [],
   "source": []
  }
 ],
 "metadata": {
  "kernelspec": {
   "display_name": "Python 3",
   "language": "python",
   "name": "python3"
  },
  "language_info": {
   "codemirror_mode": {
    "name": "ipython",
    "version": 3
   },
   "file_extension": ".py",
   "mimetype": "text/x-python",
   "name": "python",
   "nbconvert_exporter": "python",
   "pygments_lexer": "ipython3",
   "version": "3.5.2"
  }
 },
 "nbformat": 4,
 "nbformat_minor": 2
}
